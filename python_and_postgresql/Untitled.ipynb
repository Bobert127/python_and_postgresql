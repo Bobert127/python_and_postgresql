{
 "cells": [
  {
   "cell_type": "raw",
   "id": "49128859-4b93-4bcc-82ac-61a06075f3e1",
   "metadata": {},
   "source": [
    "def shorten(text):\n",
    "    return ''.join(word[0] for word in text.split()).upper()\n",
    " \n",
    "if __name__ == '__main__':\n",
    "    shortened = shorten(\"Dont me\")\n",
    "    print(shortened)\n",
    "    "
   ]
  },
  {
   "cell_type": "raw",
   "id": "d32e60f9-7761-4a7e-b282-920dab469b3f",
   "metadata": {},
   "source": [
    "napis = \"abcdefghijklmnop\"\n",
    "print napis.upper()\n"
   ]
  },
  {
   "cell_type": "code",
   "execution_count": null,
   "id": "bef3a890-cc9e-48d1-a1fb-4cb0c5bdc816",
   "metadata": {},
   "outputs": [],
   "source": []
  },
  {
   "cell_type": "code",
   "execution_count": null,
   "id": "4cd17adc-aa55-4b02-8a5c-dd1132efafd4",
   "metadata": {},
   "outputs": [],
   "source": []
  }
 ],
 "metadata": {
  "kernelspec": {
   "display_name": "Python 3",
   "language": "python",
   "name": "python3"
  },
  "language_info": {
   "codemirror_mode": {
    "name": "ipython",
    "version": 3
   },
   "file_extension": ".py",
   "mimetype": "text/x-python",
   "name": "python",
   "nbconvert_exporter": "python",
   "pygments_lexer": "ipython3",
   "version": "3.8.10"
  }
 },
 "nbformat": 4,
 "nbformat_minor": 5
}
