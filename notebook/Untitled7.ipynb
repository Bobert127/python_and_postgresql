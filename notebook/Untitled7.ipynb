{
 "cells": [
  {
   "cell_type": "code",
   "execution_count": 9,
   "id": "12b312ce-1cc5-49a2-8034-87c5ade3b887",
   "metadata": {},
   "outputs": [
    {
     "name": "stdout",
     "output_type": "stream",
     "text": [
      "Sami swoi\n"
     ]
    }
   ],
   "source": [
    "dictionary = {\n",
    "    \"name\": \"Władysław Hańcza\",\n",
    "    \"role\": \"Kargul\",\n",
    "    \"movie\": \"Sami swoi\"\n",
    "}\n",
    "print(dictionary[\"movie\"])"
   ]
  },
  {
   "cell_type": "code",
   "execution_count": 1,
   "id": "957ef308-746b-4138-a678-31f57d351e35",
   "metadata": {},
   "outputs": [
    {
     "name": "stdout",
     "output_type": "stream",
     "text": [
      "[3, 1, 4, 4, 6, 3] 21\n"
     ]
    }
   ],
   "source": [
    "import random \n",
    "\n",
    "def d6(num):\n",
    "    l = []\n",
    "    for i in range(1, num +1):\n",
    "        rzut = random.randint(1, 6)\n",
    "        l.append(rzut)\n",
    "        \n",
    "    print (l, sum(l))\n",
    "d6(6)"
   ]
  },
  {
   "cell_type": "code",
   "execution_count": 50,
   "id": "7f9c887a-338b-4e1c-8d29-b2ddcf0e6d8d",
   "metadata": {},
   "outputs": [
    {
     "name": "stdout",
     "output_type": "stream",
     "text": [
      "jutro będzie 2021-05-26 23:12:15.073354\n"
     ]
    }
   ],
   "source": [
    "from datetime import datetime, timedelta\n",
    "\n",
    "def tommorow():\n",
    "    jutro = datetime.now() + + timedelta(days=1)\n",
    "    print(\"jutro będzie\", jutro)\n",
    "tommorow()"
   ]
  },
  {
   "cell_type": "code",
   "execution_count": 51,
   "id": "5f41880c-3496-4905-9c1c-06a970c29ed9",
   "metadata": {},
   "outputs": [
    {
     "name": "stdout",
     "output_type": "stream",
     "text": [
      "cześć\n"
     ]
    }
   ],
   "source": [
    "def robert():\n",
    "    return \"cześć\"\n",
    "\n",
    "print (robert())\n"
   ]
  },
  {
   "cell_type": "code",
   "execution_count": 52,
   "id": "467db908-5509-4724-83bc-40c80fa385b8",
   "metadata": {},
   "outputs": [
    {
     "ename": "ModuleNotFoundError",
     "evalue": "No module named 'coderslab'",
     "output_type": "error",
     "traceback": [
      "\u001b[0;31m---------------------------------------------------------------------------\u001b[0m",
      "\u001b[0;31mModuleNotFoundError\u001b[0m                       Traceback (most recent call last)",
      "\u001b[0;32m<ipython-input-52-fce1bf2c21e3>\u001b[0m in \u001b[0;36m<module>\u001b[0;34m\u001b[0m\n\u001b[0;32m----> 1\u001b[0;31m \u001b[0;32mfrom\u001b[0m \u001b[0mcoderslab\u001b[0m \u001b[0;32mimport\u001b[0m \u001b[0mcoderslab_welcome\u001b[0m\u001b[0;34m\u001b[0m\u001b[0;34m\u001b[0m\u001b[0m\n\u001b[0m\u001b[1;32m      2\u001b[0m \u001b[0;34m\u001b[0m\u001b[0m\n\u001b[1;32m      3\u001b[0m \u001b[0mprint\u001b[0m\u001b[0;34m(\u001b[0m\u001b[0mcoderslab_welcome\u001b[0m\u001b[0;34m(\u001b[0m\u001b[0;34m)\u001b[0m\u001b[0;34m)\u001b[0m\u001b[0;34m\u001b[0m\u001b[0;34m\u001b[0m\u001b[0m\n",
      "\u001b[0;31mModuleNotFoundError\u001b[0m: No module named 'coderslab'"
     ]
    }
   ],
   "source": [
    "from coderslab import coderslab_welcome\n",
    "\n",
    "print(coderslab_welcome())"
   ]
  },
  {
   "cell_type": "code",
   "execution_count": null,
   "id": "e33c455a-4044-4829-9df9-980a1e11d791",
   "metadata": {},
   "outputs": [],
   "source": []
  }
 ],
 "metadata": {
  "kernelspec": {
   "display_name": "Python 3",
   "language": "python",
   "name": "python3"
  },
  "language_info": {
   "codemirror_mode": {
    "name": "ipython",
    "version": 3
   },
   "file_extension": ".py",
   "mimetype": "text/x-python",
   "name": "python",
   "nbconvert_exporter": "python",
   "pygments_lexer": "ipython3",
   "version": "3.8.5"
  }
 },
 "nbformat": 4,
 "nbformat_minor": 5
}
