{
 "cells": [
  {
   "cell_type": "markdown",
   "id": "46e64abf",
   "metadata": {},
   "source": [
    "# Lista\n",
    "1. Collection\n",
    "2. Ordered\n",
    "3. Mutable\n",
    "4. Heterogenous\n"
   ]
  },
  {
   "cell_type": "raw",
   "id": "d8618596",
   "metadata": {},
   "source": [
    "zmienna = \"ala\""
   ]
  },
  {
   "cell_type": "code",
   "execution_count": 8,
   "id": "92631a19",
   "metadata": {},
   "outputs": [],
   "source": [
    "l = [1,5,4,2]"
   ]
  },
  {
   "cell_type": "code",
   "execution_count": 3,
   "id": "7fdbbe77",
   "metadata": {},
   "outputs": [
    {
     "data": {
      "text/plain": [
       "list"
      ]
     },
     "execution_count": 3,
     "metadata": {},
     "output_type": "execute_result"
    }
   ],
   "source": [
    "type(l)"
   ]
  },
  {
   "cell_type": "code",
   "execution_count": 4,
   "id": "e616656f",
   "metadata": {},
   "outputs": [
    {
     "data": {
      "text/plain": [
       "4"
      ]
     },
     "execution_count": 4,
     "metadata": {},
     "output_type": "execute_result"
    }
   ],
   "source": [
    "len(l)"
   ]
  },
  {
   "cell_type": "code",
   "execution_count": 6,
   "id": "433a8b94",
   "metadata": {},
   "outputs": [
    {
     "data": {
      "text/plain": [
       "True"
      ]
     },
     "execution_count": 6,
     "metadata": {},
     "output_type": "execute_result"
    }
   ],
   "source": [
    "l[2] == l[2]"
   ]
  },
  {
   "cell_type": "code",
   "execution_count": 11,
   "id": "147bddb5",
   "metadata": {},
   "outputs": [
    {
     "name": "stdout",
     "output_type": "stream",
     "text": [
      "1\n",
      "5\n",
      "4\n",
      "2\n",
      "7\n"
     ]
    }
   ],
   "source": [
    "for item in l:\n",
    "    print(item)"
   ]
  },
  {
   "cell_type": "code",
   "execution_count": 10,
   "id": "fdc2b814",
   "metadata": {},
   "outputs": [],
   "source": [
    "l.append(7)\n"
   ]
  },
  {
   "cell_type": "code",
   "execution_count": 4,
   "id": "bfd7470b",
   "metadata": {},
   "outputs": [],
   "source": [
    "# In operator"
   ]
  },
  {
   "cell_type": "code",
   "execution_count": 5,
   "id": "593f936b",
   "metadata": {},
   "outputs": [
    {
     "name": "stdout",
     "output_type": "stream",
     "text": [
      "0\n",
      "1\n",
      "2\n",
      "3\n",
      "4\n",
      "5\n",
      "6\n",
      "7\n",
      "8\n",
      "9\n"
     ]
    }
   ],
   "source": [
    "for item in range(10):\n",
    "    print(item)"
   ]
  },
  {
   "cell_type": "code",
   "execution_count": 6,
   "id": "bab6bd50",
   "metadata": {},
   "outputs": [],
   "source": [
    "l = [1,2,3,4,\"ala\"]\n"
   ]
  },
  {
   "cell_type": "code",
   "execution_count": 15,
   "id": "a187bd96",
   "metadata": {},
   "outputs": [
    {
     "name": "stdout",
     "output_type": "stream",
     "text": [
      "False\n"
     ]
    }
   ],
   "source": [
    "counter = 0\n",
    "\n",
    "for element in l:\n",
    "    if element == \"ula\":\n",
    "        print(True)\n",
    "    else: \n",
    "        counter += 1\n",
    "    \n",
    "    if counter == len(l):\n",
    "        print(False)"
   ]
  },
  {
   "cell_type": "code",
   "execution_count": 17,
   "id": "4a54d203",
   "metadata": {},
   "outputs": [
    {
     "data": {
      "text/plain": [
       "False"
      ]
     },
     "execution_count": 17,
     "metadata": {},
     "output_type": "execute_result"
    }
   ],
   "source": [
    "\"ula\" in l"
   ]
  },
  {
   "cell_type": "code",
   "execution_count": 22,
   "id": "01e8b869",
   "metadata": {},
   "outputs": [
    {
     "data": {
      "text/plain": [
       "True"
      ]
     },
     "execution_count": 22,
     "metadata": {},
     "output_type": "execute_result"
    }
   ],
   "source": [
    "\"ola\" not in l"
   ]
  },
  {
   "cell_type": "code",
   "execution_count": 23,
   "id": "129fea0d",
   "metadata": {},
   "outputs": [
    {
     "data": {
      "text/plain": [
       "False"
      ]
     },
     "execution_count": 23,
     "metadata": {},
     "output_type": "execute_result"
    }
   ],
   "source": [
    "1 == 2"
   ]
  },
  {
   "cell_type": "code",
   "execution_count": 27,
   "id": "31da657e",
   "metadata": {},
   "outputs": [
    {
     "name": "stdout",
     "output_type": "stream",
     "text": [
      "happy birthday ela!\n"
     ]
    }
   ],
   "source": [
    "users = [\"ala\", \"ola\", \"ula\", \"ula\"]\n",
    "\n",
    "if \"ula\" in users:\n",
    "    print(\"happy birthday ela!\")"
   ]
  },
  {
   "cell_type": "markdown",
   "id": "cf103aaa",
   "metadata": {},
   "source": [
    "# String\n",
    "\n",
    "[String methods link] https://docs.python.org/3/library/stdtypes.html#string-methods"
   ]
  },
  {
   "cell_type": "code",
   "execution_count": 29,
   "id": "47a22c99",
   "metadata": {},
   "outputs": [
    {
     "data": {
      "text/plain": [
       "'ELA'"
      ]
     },
     "execution_count": 29,
     "metadata": {},
     "output_type": "execute_result"
    }
   ],
   "source": [
    "\"ela\".upper()"
   ]
  },
  {
   "cell_type": "code",
   "execution_count": 33,
   "id": "2276d539",
   "metadata": {
    "scrolled": true
   },
   "outputs": [
    {
     "data": {
      "text/plain": [
       "['__add__',\n",
       " '__class__',\n",
       " '__contains__',\n",
       " '__delattr__',\n",
       " '__delitem__',\n",
       " '__dir__',\n",
       " '__doc__',\n",
       " '__eq__',\n",
       " '__format__',\n",
       " '__ge__',\n",
       " '__getattribute__',\n",
       " '__getitem__',\n",
       " '__gt__',\n",
       " '__hash__',\n",
       " '__iadd__',\n",
       " '__imul__',\n",
       " '__init__',\n",
       " '__init_subclass__',\n",
       " '__iter__',\n",
       " '__le__',\n",
       " '__len__',\n",
       " '__lt__',\n",
       " '__mul__',\n",
       " '__ne__',\n",
       " '__new__',\n",
       " '__reduce__',\n",
       " '__reduce_ex__',\n",
       " '__repr__',\n",
       " '__reversed__',\n",
       " '__rmul__',\n",
       " '__setattr__',\n",
       " '__setitem__',\n",
       " '__sizeof__',\n",
       " '__str__',\n",
       " '__subclasshook__',\n",
       " 'append',\n",
       " 'clear',\n",
       " 'copy',\n",
       " 'count',\n",
       " 'extend',\n",
       " 'index',\n",
       " 'insert',\n",
       " 'pop',\n",
       " 'remove',\n",
       " 'reverse',\n",
       " 'sort']"
      ]
     },
     "execution_count": 33,
     "metadata": {},
     "output_type": "execute_result"
    }
   ],
   "source": [
    "dir([])"
   ]
  },
  {
   "cell_type": "code",
   "execution_count": null,
   "id": "7438694f",
   "metadata": {},
   "outputs": [],
   "source": []
  }
 ],
 "metadata": {
  "celltoolbar": "Attachments",
  "kernelspec": {
   "display_name": "Python 3",
   "language": "python",
   "name": "python3"
  },
  "language_info": {
   "codemirror_mode": {
    "name": "ipython",
    "version": 3
   },
   "file_extension": ".py",
   "mimetype": "text/x-python",
   "name": "python",
   "nbconvert_exporter": "python",
   "pygments_lexer": "ipython3",
   "version": "3.8.5"
  }
 },
 "nbformat": 4,
 "nbformat_minor": 5
}
