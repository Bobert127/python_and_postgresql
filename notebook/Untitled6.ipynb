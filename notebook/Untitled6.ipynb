{
 "cells": [
  {
   "cell_type": "code",
   "execution_count": 134,
   "id": "7e61687c-fa93-4525-91b8-3c116cba71a0",
   "metadata": {},
   "outputs": [
    {
     "name": "stdout",
     "output_type": "stream",
     "text": [
      "####\n",
      "##\n"
     ]
    }
   ],
   "source": [
    "l = (4,2,'dwa')\n",
    "def histogram(l):\n",
    "    \n",
    "    for i in l:\n",
    "        if type(i) == str:\n",
    "            return \n",
    "        if type(i) == int:\n",
    "            print(i * \"#\") \n",
    "    print()\n",
    "    \n",
    "histogram(l)\n",
    "\n"
   ]
  },
  {
   "cell_type": "code",
   "execution_count": null,
   "id": "83c3e1a5-d9db-453d-a662-1b1e41143bb9",
   "metadata": {},
   "outputs": [],
   "source": []
  }
 ],
 "metadata": {
  "kernelspec": {
   "display_name": "Python 3",
   "language": "python",
   "name": "python3"
  },
  "language_info": {
   "codemirror_mode": {
    "name": "ipython",
    "version": 3
   },
   "file_extension": ".py",
   "mimetype": "text/x-python",
   "name": "python",
   "nbconvert_exporter": "python",
   "pygments_lexer": "ipython3",
   "version": "3.8.5"
  }
 },
 "nbformat": 4,
 "nbformat_minor": 5
}
