{
 "cells": [
  {
   "cell_type": "code",
   "execution_count": 108,
   "id": "d5786060-5d89-4689-b503-8faa7bc91dfb",
   "metadata": {},
   "outputs": [
    {
     "name": "stdout",
     "output_type": "stream",
     "text": [
      "[46, 56, 22, 96, 31, 76, 65, 29, 90, 10, 82]\n",
      "średnia wynosi 54.81818181818182 ilosc = 11\n"
     ]
    }
   ],
   "source": [
    "from random import randint\n",
    "\n",
    "l = []\n",
    "\n",
    "def random_average(n):\n",
    "    for i in range(n):\n",
    "        rnd = randint(1, 100)\n",
    "        l.append(rnd)\n",
    "    print(l)\n",
    "random_average(11)\n",
    "suma = sum(l)\n",
    "quantity = len(l)\n",
    "avg = suma / quantity\n",
    "\n",
    "    a = int(input(\"Podaj liczbę\"))\n",
    "    b = int(input(\"podaj drugą liczbę\"))print(f\"średnia wynosi {avg} ilosc = {quantity}\")"
   ]
  },
  {
   "cell_type": "code",
   "execution_count": 155,
   "id": "b1527c5d-0aef-431d-be7f-322218a71528",
   "metadata": {
    "tags": []
   },
   "outputs": [
    {
     "name": "stdin",
     "output_type": "stream",
     "text": [
      "Podaj pierwszą liczbę m\n"
     ]
    },
    {
     "name": "stdout",
     "output_type": "stream",
     "text": [
      "Podaj liczbę\n"
     ]
    },
    {
     "name": "stdin",
     "output_type": "stream",
     "text": [
      "Podaj drugą liczbę 2\n"
     ]
    },
    {
     "name": "stdout",
     "output_type": "stream",
     "text": [
      "4.5\n"
     ]
    }
   ],
   "source": [
    "try:\n",
    "    a = int(input(\"Podaj pierwszą liczbę\"))\n",
    "except :\n",
    "    print(\"Podaj liczbę\")\n",
    "try:\n",
    "    b = int(input(\"Podaj drugą liczbę\"))\n",
    "except:\n",
    "    print(\"Podaj liczbę\")\n",
    "\n",
    "    \n",
    "def div(a, b):\n",
    "    return a/b\n",
    "print(a/b)\n",
    "\n",
    "\n"
   ]
  },
  {
   "cell_type": "code",
   "execution_count": null,
   "id": "fd1725c6-fda8-4476-80c6-4cdb86190734",
   "metadata": {},
   "outputs": [],
   "source": []
  }
 ],
 "metadata": {
  "kernelspec": {
   "display_name": "Python 3",
   "language": "python",
   "name": "python3"
  },
  "language_info": {
   "codemirror_mode": {
    "name": "ipython",
    "version": 3
   },
   "file_extension": ".py",
   "mimetype": "text/x-python",
   "name": "python",
   "nbconvert_exporter": "python",
   "pygments_lexer": "ipython3",
   "version": "3.8.5"
  }
 },
 "nbformat": 4,
 "nbformat_minor": 5
}
