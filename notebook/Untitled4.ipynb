{
 "cells": [
  {
   "cell_type": "code",
   "execution_count": 58,
   "id": "30bb2cfb-5f8a-4585-9676-01af9b7610e4",
   "metadata": {},
   "outputs": [
    {
     "name": "stdout",
     "output_type": "stream",
     "text": [
      "8\n"
     ]
    }
   ],
   "source": [
    "num = 8\n",
    "\n",
    "def square_print (num):\n",
    "    return\n",
    "\n",
    "print(num)"
   ]
  },
  {
   "cell_type": "code",
   "execution_count": 62,
   "id": "f0527b91-ba0a-4db7-923d-c6bb2fbc94c8",
   "metadata": {},
   "outputs": [
    {
     "name": "stdout",
     "output_type": "stream",
     "text": [
      "110\n"
     ]
    }
   ],
   "source": [
    "num = 10\n",
    "\n",
    "def square (num):\n",
    "    return num\n",
    "a = num ** 2\n",
    "print(a + 10)"
   ]
  },
  {
   "cell_type": "code",
   "execution_count": 97,
   "id": "70969765-4321-469a-8a51-0f1fae197a0f",
   "metadata": {},
   "outputs": [
    {
     "name": "stdout",
     "output_type": "stream",
     "text": [
      "RobertRobertRobertRobertRobertRobertRobertRobertRobertRobertRobert\n"
     ]
    }
   ],
   "source": [
    "subject = \"Robert\"\n",
    "times = 11\n",
    "\n",
    "def mltiply(subject, times):\n",
    "    return subject * times\n",
    "print(subject * times)"
   ]
  },
  {
   "cell_type": "code",
   "execution_count": 117,
   "id": "222989ee-75a8-4c76-a41c-66060037cb6a",
   "metadata": {},
   "outputs": [
    {
     "name": "stdout",
     "output_type": "stream",
     "text": [
      "261.55844155844153\n"
     ]
    }
   ],
   "source": [
    "zlotys = 1007\n",
    "change = 3.85\n",
    "\n",
    "def convert_to_usd(zlotys, change):\n",
    "    return zlotys / change\n",
    "print(zlotys/change)\n",
    "    "
   ]
  },
  {
   "cell_type": "code",
   "execution_count": 124,
   "id": "cc3cdadd-1bc2-42ab-bb19-510f77cdee11",
   "metadata": {},
   "outputs": [
    {
     "name": "stdout",
     "output_type": "stream",
     "text": [
      "35.0\n"
     ]
    }
   ],
   "source": [
    "fahrenheit = 95\n",
    "\n",
    "def to_celsius (fahrenheit):\n",
    "    return (((fahrenheit - 32) * 5)/9)\n",
    "\n",
    "print((((fahrenheit - 32) * 5)/9))"
   ]
  },
  {
   "cell_type": "code",
   "execution_count": 125,
   "id": "77eb0e8f-0b9f-49cf-b6dc-f4f89dcf8946",
   "metadata": {},
   "outputs": [
    {
     "name": "stdout",
     "output_type": "stream",
     "text": [
      "406.5040650406504\n"
     ]
    }
   ],
   "source": [
    "gross = 500\n",
    "vat = 0.23\n",
    "\n",
    "def calculate_net(gross, vat):\n",
    "    return gross /(1 + vat)\n",
    "\n",
    "print(gross /(1 + vat))\n",
    "    "
   ]
  },
  {
   "cell_type": "code",
   "execution_count": 221,
   "id": "5c92642d-f48e-435e-aa8c-cbf895431cc7",
   "metadata": {},
   "outputs": [],
   "source": [
    "number = 5\n",
    "\n",
    "def is_even(number):\n",
    "    return number % 2 == 0\n",
    "\n",
    "def iterate_through(number):\n",
    "    lista =[]\n",
    "    \n",
    "    return\n",
    "\n",
    "  "
   ]
  },
  {
   "cell_type": "code",
   "execution_count": 218,
   "id": "20d9c5c5-d986-431a-8e28-67e591c11943",
   "metadata": {},
   "outputs": [],
   "source": [
    "list =[]\n",
    "\n",
    "for item in range(10):\n",
    "    list.append(item)"
   ]
  },
  {
   "cell_type": "code",
   "execution_count": null,
   "id": "5cc0d009-8a22-4b98-be0b-7fbb0582ea53",
   "metadata": {},
   "outputs": [],
   "source": []
  }
 ],
 "metadata": {
  "kernelspec": {
   "display_name": "Python 3",
   "language": "python",
   "name": "python3"
  },
  "language_info": {
   "codemirror_mode": {
    "name": "ipython",
    "version": 3
   },
   "file_extension": ".py",
   "mimetype": "text/x-python",
   "name": "python",
   "nbconvert_exporter": "python",
   "pygments_lexer": "ipython3",
   "version": "3.8.5"
  }
 },
 "nbformat": 4,
 "nbformat_minor": 5
}
