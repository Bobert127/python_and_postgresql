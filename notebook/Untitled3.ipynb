{
 "cells": [
  {
   "cell_type": "code",
   "execution_count": 1,
   "id": "3f96af92-199d-4abe-b702-267ee7caddf1",
   "metadata": {},
   "outputs": [
    {
     "ename": "SyntaxError",
     "evalue": "invalid syntax (<ipython-input-1-19e8dfb57982>, line 2)",
     "output_type": "error",
     "traceback": [
      "\u001b[0;36m  File \u001b[0;32m\"<ipython-input-1-19e8dfb57982>\"\u001b[0;36m, line \u001b[0;32m2\u001b[0m\n\u001b[0;31m    print \" \"*(16-wiersz)+\"*\"*(wiersz*2-1)\u001b[0m\n\u001b[0m          ^\u001b[0m\n\u001b[0;31mSyntaxError\u001b[0m\u001b[0;31m:\u001b[0m invalid syntax\n"
     ]
    }
   ],
   "source": [
    "for wiersz in range(1,16):\n",
    "    print \" \"*(16-wiersz)+\"*\"*(wiersz*2-1)"
   ]
  },
  {
   "cell_type": "code",
   "execution_count": 13,
   "id": "03cbb752-8e56-460d-ba83-ef02d022f31e",
   "metadata": {},
   "outputs": [
    {
     "name": "stdout",
     "output_type": "stream",
     "text": [
      "***\n",
      "****\n",
      "*****\n",
      "***\n",
      "****\n",
      "*****\n",
      "***\n",
      "****\n",
      "*****\n"
     ]
    }
   ],
   "source": [
    "for i in range(3):\n",
    "    for j in range(3, 6):\n",
    "        print(j * \"*\")"
   ]
  },
  {
   "cell_type": "code",
   "execution_count": 18,
   "id": "81c817af-a249-4ce4-a802-27a3a979ebe4",
   "metadata": {},
   "outputs": [
    {
     "name": "stdout",
     "output_type": "stream",
     "text": [
      "range(3, 10)\n"
     ]
    }
   ],
   "source": [
    "a = range(3, 10)\n",
    "print(a)"
   ]
  },
  {
   "cell_type": "code",
   "execution_count": 20,
   "id": "041c4943-101a-4e0c-8dc8-a712f1924274",
   "metadata": {},
   "outputs": [
    {
     "name": "stdout",
     "output_type": "stream",
     "text": [
      "***\n",
      "****\n",
      "*****\n"
     ]
    }
   ],
   "source": [
    "for o in (3,4,5):\n",
    "    print(o * \"*\")"
   ]
  },
  {
   "cell_type": "code",
   "execution_count": 30,
   "id": "9369ba17-2a15-44cd-99c2-ae2df29f52e6",
   "metadata": {},
   "outputs": [
    {
     "name": "stdout",
     "output_type": "stream",
     "text": [
      "***\n",
      "****\n"
     ]
    }
   ],
   "source": [
    "for i in range(3,5):\n",
    "    print(i * \"*\")"
   ]
  },
  {
   "cell_type": "code",
   "execution_count": 46,
   "id": "9c15c095-314a-43f4-8691-bb718bbda381",
   "metadata": {},
   "outputs": [
    {
     "name": "stdout",
     "output_type": "stream",
     "text": [
      "Wielkość choinki: 6\n",
      "*\n",
      "**\n",
      "***\n",
      "****\n",
      "*****\n",
      "******\n"
     ]
    }
   ],
   "source": [
    "import random\n",
    "size = random.randint(3, 9)\n",
    "print(f'Wielkość choinki: {size}')\n",
    "\n",
    "for i in range(1, size +1):\n",
    "        print(i * \"*\")"
   ]
  },
  {
   "cell_type": "code",
   "execution_count": 114,
   "id": "56e6319d-e4ab-4390-8b4b-17446265f905",
   "metadata": {},
   "outputs": [
    {
     "name": "stdout",
     "output_type": "stream",
     "text": [
      "Wartość zmiennej rows 10\n",
      "Wartość zmiennej columns 14\n",
      "* * * * * * * * * * * * * * \n",
      "* * * * * * * * * * * * * * \n",
      "* * * * * * * * * * * * * * \n",
      "* * * * * * * * * * * * * * \n",
      "* * * * * * * * * * * * * * \n",
      "* * * * * * * * * * * * * * \n",
      "* * * * * * * * * * * * * * \n",
      "* * * * * * * * * * * * * * \n",
      "* * * * * * * * * * * * * * \n",
      "* * * * * * * * * * * * * * \n"
     ]
    }
   ],
   "source": [
    "rows = random.randint(5, 15)\n",
    "columns = random.randint(5, 15)\n",
    "print(f'Wartość zmiennej rows {rows}')\n",
    "print(f'Wartość zmiennej columns {columns}')\n",
    "\n",
    "for i in range(rows):\n",
    "    for j in range(columns):\n",
    "        print (\"*\", end = ' ')\n",
    "    print()"
   ]
  },
  {
   "cell_type": "code",
   "execution_count": 113,
   "id": "c229b0ea-ca75-4636-b61e-a8bbf80ed0f5",
   "metadata": {},
   "outputs": [
    {
     "name": "stdout",
     "output_type": "stream",
     "text": [
      "* * * * * * \n",
      "* * * * * * \n",
      "* * * * * * \n",
      "* * * * * * \n",
      "* * * * * * \n"
     ]
    }
   ],
   "source": [
    "# program rysuje trójkąt\n",
    "for j in range(5):\n",
    "    for i in range(6):\n",
    "        print(\"*\", end = ' ')\n",
    "    print()"
   ]
  },
  {
   "cell_type": "code",
   "execution_count": null,
   "id": "0a816ddc-850a-4aba-9f58-87b4a51ebe44",
   "metadata": {},
   "outputs": [],
   "source": []
  }
 ],
 "metadata": {
  "kernelspec": {
   "display_name": "Python 3",
   "language": "python",
   "name": "python3"
  },
  "language_info": {
   "codemirror_mode": {
    "name": "ipython",
    "version": 3
   },
   "file_extension": ".py",
   "mimetype": "text/x-python",
   "name": "python",
   "nbconvert_exporter": "python",
   "pygments_lexer": "ipython3",
   "version": "3.8.5"
  }
 },
 "nbformat": 4,
 "nbformat_minor": 5
}
