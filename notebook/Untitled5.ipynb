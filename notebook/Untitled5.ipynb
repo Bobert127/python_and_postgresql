{
 "cells": [
  {
   "cell_type": "code",
   "execution_count": 67,
   "id": "e40c0ddb-a24e-4a47-b27a-8e5236f2a031",
   "metadata": {},
   "outputs": [
    {
     "name": "stdout",
     "output_type": "stream",
     "text": [
      "6 True\n"
     ]
    }
   ],
   "source": [
    "number = 5\n",
    "  \n",
    "def iterate_through(number):\n",
    "    for item in range(1, number+1):\n",
    "        if item % 2 == 0:\n",
    "            a = True\n",
    "        else:\n",
    "            a = False\n",
    "    print(item, a)    \n",
    "    \n",
    "iterate_through(6)\n",
    "       \n",
    "\n",
    "\n",
    "\n"
   ]
  },
  {
   "cell_type": "code",
   "execution_count": 55,
   "id": "309fb750-410b-4158-99b6-42d5cbea327a",
   "metadata": {},
   "outputs": [
    {
     "name": "stdout",
     "output_type": "stream",
     "text": [
      "True\n"
     ]
    }
   ],
   "source": [
    "is_checked = 'True'\n",
    "\n",
    "if is_checked == True:\n",
    "    print(is_checked)\n",
    "elif is_checked:\n",
    "    print(is_checked)\n",
    "else:\n",
    "    pass"
   ]
  },
  {
   "cell_type": "code",
   "execution_count": 57,
   "id": "cac71b6b-f3f7-4eef-8e7c-d6a53beb73ba",
   "metadata": {},
   "outputs": [
    {
     "name": "stdout",
     "output_type": "stream",
     "text": [
      "['robert', 'janek', 'zenek']\n",
      "['robert', 'janek', 'zenek']\n",
      "['robert', 'janek', 'zenek']\n"
     ]
    }
   ],
   "source": [
    "zmienna = [\"robert\", \"janek\", \"zenek\"]\n",
    "for pamiec in zmienna:\n",
    "    print(zmienna)"
   ]
  },
  {
   "cell_type": "code",
   "execution_count": 58,
   "id": "98793a97-44f0-41f0-a8e2-68afe3b838a1",
   "metadata": {},
   "outputs": [],
   "source": [
    "def add(a, b=2):\n",
    "    return a + b"
   ]
  },
  {
   "cell_type": "code",
   "execution_count": 64,
   "id": "a0a47b8c-b671-4ca3-8615-c3d8a988260c",
   "metadata": {},
   "outputs": [
    {
     "ename": "SyntaxError",
     "evalue": "invalid syntax (<ipython-input-64-3a48c7c6a854>, line 3)",
     "output_type": "error",
     "traceback": [
      "\u001b[0;36m  File \u001b[0;32m\"<ipython-input-64-3a48c7c6a854>\"\u001b[0;36m, line \u001b[0;32m3\u001b[0m\n\u001b[0;31m    if liczba % 4 = 0:\u001b[0m\n\u001b[0m                  ^\u001b[0m\n\u001b[0;31mSyntaxError\u001b[0m\u001b[0;31m:\u001b[0m invalid syntax\n"
     ]
    }
   ],
   "source": [
    "liczba = 5\n",
    "\n",
    "if liczba % 4 = 0:\n",
    "    print(True)\n",
    "else:\n",
    "    print(False)\n"
   ]
  },
  {
   "cell_type": "code",
   "execution_count": 62,
   "id": "6a97b137-b5d2-4c04-916b-7c4b742e4b1e",
   "metadata": {},
   "outputs": [
    {
     "name": "stdout",
     "output_type": "stream",
     "text": [
      "* * * * * * * * \n",
      "* * * * * * * * \n",
      "* * * * * * * * \n",
      "* * * * * * * * \n",
      "* * * * * * * * \n",
      "* * * * * * * * \n",
      "* * * * * * * * \n",
      "* * * * * * * * \n"
     ]
    }
   ],
   "source": [
    "\n",
    "    for i in range(8):\n",
    "        for j in range(8):\n",
    "            print(\"*\", end=' ')\n",
    "        print()\n",
    "\n",
    "\n"
   ]
  },
  {
   "cell_type": "code",
   "execution_count": null,
   "id": "f3d2895b-9c5c-4aa9-8ba4-c5e1897a78d6",
   "metadata": {},
   "outputs": [],
   "source": []
  }
 ],
 "metadata": {
  "kernelspec": {
   "display_name": "Python 3",
   "language": "python",
   "name": "python3"
  },
  "language_info": {
   "codemirror_mode": {
    "name": "ipython",
    "version": 3
   },
   "file_extension": ".py",
   "mimetype": "text/x-python",
   "name": "python",
   "nbconvert_exporter": "python",
   "pygments_lexer": "ipython3",
   "version": "3.8.5"
  }
 },
 "nbformat": 4,
 "nbformat_minor": 5
}
