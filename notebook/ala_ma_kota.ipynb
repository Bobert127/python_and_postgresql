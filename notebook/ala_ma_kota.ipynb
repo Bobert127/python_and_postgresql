{
 "cells": [
  {
   "cell_type": "code",
   "execution_count": 2,
   "id": "9c09e1b3",
   "metadata": {},
   "outputs": [],
   "source": [
    "s = \"ala ma kota\""
   ]
  },
  {
   "cell_type": "code",
   "execution_count": 3,
   "id": "6b11fbc0",
   "metadata": {},
   "outputs": [
    {
     "data": {
      "text/plain": [
       "'ALA MA KOTA'"
      ]
     },
     "execution_count": 3,
     "metadata": {},
     "output_type": "execute_result"
    }
   ],
   "source": [
    "s.upper()"
   ]
  },
  {
   "cell_type": "code",
   "execution_count": 4,
   "id": "47d2f309",
   "metadata": {},
   "outputs": [
    {
     "data": {
      "text/plain": [
       "'ala ma kota'"
      ]
     },
     "execution_count": 4,
     "metadata": {},
     "output_type": "execute_result"
    }
   ],
   "source": [
    "s.lower()"
   ]
  },
  {
   "cell_type": "code",
   "execution_count": 5,
   "id": "58480d43",
   "metadata": {},
   "outputs": [
    {
     "data": {
      "text/plain": [
       "True"
      ]
     },
     "execution_count": 5,
     "metadata": {},
     "output_type": "execute_result"
    }
   ],
   "source": [
    "s[:3] == 'ala'"
   ]
  },
  {
   "cell_type": "code",
   "execution_count": 6,
   "id": "fa65ea75",
   "metadata": {},
   "outputs": [
    {
     "data": {
      "text/plain": [
       "True"
      ]
     },
     "execution_count": 6,
     "metadata": {},
     "output_type": "execute_result"
    }
   ],
   "source": [
    "s.endswith('ota')"
   ]
  },
  {
   "cell_type": "code",
   "execution_count": 11,
   "id": "b357bd7e",
   "metadata": {},
   "outputs": [],
   "source": [
    "s += ' i wszy'"
   ]
  },
  {
   "cell_type": "code",
   "execution_count": 15,
   "id": "fb0669c2",
   "metadata": {},
   "outputs": [
    {
     "data": {
      "text/plain": [
       "'ala ma kota i wszy i wszy i wszy i wszy i wszy i 2 wszy'"
      ]
     },
     "execution_count": 15,
     "metadata": {},
     "output_type": "execute_result"
    }
   ],
   "source": [
    "s[:-5] + ' 2 ' + s[-4:]"
   ]
  },
  {
   "cell_type": "code",
   "execution_count": 14,
   "id": "08b11a55",
   "metadata": {},
   "outputs": [
    {
     "data": {
      "text/plain": [
       "'ala ma kota  i 2 wszy  i 2 wszy  i 2 wszy  i 2 wszy  i 2 wszy  i 2 wszy'"
      ]
     },
     "execution_count": 14,
     "metadata": {},
     "output_type": "execute_result"
    }
   ],
   "source": [
    "s.replace(\"i\", \" i 2\")"
   ]
  },
  {
   "cell_type": "code",
   "execution_count": 24,
   "id": "d6c19966",
   "metadata": {},
   "outputs": [],
   "source": [
    "l = s.split()"
   ]
  },
  {
   "cell_type": "code",
   "execution_count": 32,
   "id": "0f0934db",
   "metadata": {},
   "outputs": [
    {
     "data": {
      "text/plain": [
       "['ALA',\n",
       " 'MA',\n",
       " 'KOTA',\n",
       " 'I',\n",
       " 'WSZY',\n",
       " 'I',\n",
       " 'WSZY',\n",
       " 'I',\n",
       " 'WSZY',\n",
       " 'I',\n",
       " 'WSZY',\n",
       " 'I',\n",
       " 'WSZY',\n",
       " 'I',\n",
       " 'WSZY']"
      ]
     },
     "execution_count": 32,
     "metadata": {},
     "output_type": "execute_result"
    }
   ],
   "source": [
    "l2 =[]\n",
    "for word in l:\n",
    "    l2.append(word.upper())\n",
    "l2"
   ]
  },
  {
   "cell_type": "code",
   "execution_count": 33,
   "id": "da172c69",
   "metadata": {},
   "outputs": [
    {
     "data": {
      "text/plain": [
       "['alA',\n",
       " 'mA',\n",
       " 'kotA',\n",
       " 'I',\n",
       " 'wszY',\n",
       " 'I',\n",
       " 'wszY',\n",
       " 'I',\n",
       " 'wszY',\n",
       " 'I',\n",
       " 'wszY',\n",
       " 'I',\n",
       " 'wszY',\n",
       " 'I',\n",
       " 'wszY']"
      ]
     },
     "execution_count": 33,
     "metadata": {},
     "output_type": "execute_result"
    }
   ],
   "source": [
    "l3 = []\n",
    "\n",
    "for word in l:\n",
    "    l3.append(word[:-1] + word[-1].upper())\n",
    "l3"
   ]
  },
  {
   "cell_type": "code",
   "execution_count": 31,
   "id": "61b85893",
   "metadata": {},
   "outputs": [
    {
     "data": {
      "text/plain": [
       "['ala',\n",
       " 'ma',\n",
       " 'kota',\n",
       " 'i',\n",
       " 'wszy',\n",
       " 'i',\n",
       " 'wszy',\n",
       " 'i',\n",
       " 'wszy',\n",
       " 'i',\n",
       " 'wszy',\n",
       " 'i',\n",
       " 'wszy',\n",
       " 'i',\n",
       " 'wszy']"
      ]
     },
     "execution_count": 31,
     "metadata": {},
     "output_type": "execute_result"
    }
   ],
   "source": [
    "l5 = []\n",
    "for word in l:\n",
    "    if word.isdigit():\n",
    "        l5.append(int(word) *3)\n",
    "    else:\n",
    "        l5.append(word)\n",
    "l5"
   ]
  },
  {
   "cell_type": "code",
   "execution_count": 34,
   "id": "71fa9f74",
   "metadata": {},
   "outputs": [
    {
     "data": {
      "text/plain": [
       "['ala',\n",
       " 'ma',\n",
       " 'kota',\n",
       " 'i',\n",
       " 'wszy',\n",
       " 'i',\n",
       " 'wszy',\n",
       " 'i',\n",
       " 'wszy',\n",
       " 'i',\n",
       " 'wszy',\n",
       " 'i',\n",
       " 'wszy',\n",
       " 'i',\n",
       " 'wszy']"
      ]
     },
     "execution_count": 34,
     "metadata": {},
     "output_type": "execute_result"
    }
   ],
   "source": [
    "l6 = []\n",
    "\n",
    "for item in l5:\n",
    "    l6.append(str(item))\n",
    "l6"
   ]
  },
  {
   "cell_type": "code",
   "execution_count": 35,
   "id": "4878d900",
   "metadata": {},
   "outputs": [
    {
     "data": {
      "text/plain": [
       "'ala ma kota i wszy i wszy i wszy i wszy i wszy i wszy'"
      ]
     },
     "execution_count": 35,
     "metadata": {},
     "output_type": "execute_result"
    }
   ],
   "source": [
    "\" \".join(l6)"
   ]
  },
  {
   "cell_type": "code",
   "execution_count": 37,
   "id": "f7d55e48",
   "metadata": {},
   "outputs": [],
   "source": [
    "s2 = \" \".join([str(item) for item in l5])"
   ]
  },
  {
   "cell_type": "code",
   "execution_count": 38,
   "id": "2b9ddc66",
   "metadata": {},
   "outputs": [
    {
     "data": {
      "text/plain": [
       "True"
      ]
     },
     "execution_count": 38,
     "metadata": {},
     "output_type": "execute_result"
    }
   ],
   "source": [
    "s == s2"
   ]
  },
  {
   "cell_type": "code",
   "execution_count": 40,
   "id": "e6278ab4",
   "metadata": {},
   "outputs": [],
   "source": [
    "s2 = s2.replace(\"6\", \"2\")"
   ]
  },
  {
   "cell_type": "code",
   "execution_count": 41,
   "id": "114f3f45",
   "metadata": {},
   "outputs": [
    {
     "data": {
      "text/plain": [
       "True"
      ]
     },
     "execution_count": 41,
     "metadata": {},
     "output_type": "execute_result"
    }
   ],
   "source": [
    "s == s2"
   ]
  },
  {
   "cell_type": "code",
   "execution_count": 42,
   "id": "cdd42dd3",
   "metadata": {},
   "outputs": [
    {
     "data": {
      "text/plain": [
       "'ala ma kota i wszy i wszy i wszy i wszy i wszy i wszy'"
      ]
     },
     "execution_count": 42,
     "metadata": {},
     "output_type": "execute_result"
    }
   ],
   "source": [
    "s\n"
   ]
  },
  {
   "cell_type": "code",
   "execution_count": 47,
   "id": "708eaa61",
   "metadata": {},
   "outputs": [
    {
     "data": {
      "text/plain": [
       "'ala ma kota'"
      ]
     },
     "execution_count": 47,
     "metadata": {},
     "output_type": "execute_result"
    }
   ],
   "source": [
    "s = s[:11]\n",
    "s"
   ]
  },
  {
   "cell_type": "code",
   "execution_count": null,
   "id": "a900624f",
   "metadata": {},
   "outputs": [],
   "source": []
  }
 ],
 "metadata": {
  "kernelspec": {
   "display_name": "Python 3",
   "language": "python",
   "name": "python3"
  },
  "language_info": {
   "codemirror_mode": {
    "name": "ipython",
    "version": 3
   },
   "file_extension": ".py",
   "mimetype": "text/x-python",
   "name": "python",
   "nbconvert_exporter": "python",
   "pygments_lexer": "ipython3",
   "version": "3.8.5"
  }
 },
 "nbformat": 4,
 "nbformat_minor": 5
}
