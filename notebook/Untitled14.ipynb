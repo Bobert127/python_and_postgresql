{
 "cells": [
  {
   "cell_type": "code",
   "execution_count": 1,
   "id": "f9aefb96-41f5-4109-9d45-96318b2aac65",
   "metadata": {},
   "outputs": [
    {
     "name": "stdout",
     "output_type": "stream",
     "text": [
      "Hey!\n"
     ]
    }
   ],
   "source": [
    " def outerFunction(text):\n",
    "    text = text\n",
    " \n",
    "    def innerFunction():\n",
    "        print(text)\n",
    " \n",
    "    innerFunction()\n",
    " \n",
    "if __name__ == '__main__':\n",
    "    outerFunction('Hey!')\n"
   ]
  },
  {
   "cell_type": "code",
   "execution_count": 28,
   "id": "a5b6dff8-3f03-47c9-a9a0-9b4c3903cc82",
   "metadata": {},
   "outputs": [],
   "source": [
    "def my_ssum(a):\n",
    "    def inner(c):\n",
    "        return a + c\n",
    "    return inner\n",
    "        "
   ]
  },
  {
   "cell_type": "code",
   "execution_count": 31,
   "id": "60bcee5f-33ad-4e27-b1dc-1956ff4d49ac",
   "metadata": {},
   "outputs": [],
   "source": [
    "zimenna = my_ssum(9)"
   ]
  },
  {
   "cell_type": "code",
   "execution_count": 32,
   "id": "b7a78ff7-40de-41ee-b34c-d321f203561c",
   "metadata": {},
   "outputs": [
    {
     "data": {
      "text/plain": [
       "12"
      ]
     },
     "execution_count": 32,
     "metadata": {},
     "output_type": "execute_result"
    }
   ],
   "source": [
    "zimenna(3)"
   ]
  },
  {
   "cell_type": "code",
   "execution_count": 35,
   "id": "4ad75abf-05b0-4e43-9740-891a4c3873fe",
   "metadata": {},
   "outputs": [
    {
     "data": {
      "text/plain": [
       "25"
      ]
     },
     "execution_count": 35,
     "metadata": {},
     "output_type": "execute_result"
    }
   ],
   "source": [
    "def outer(d):\n",
    "    def inner(f):\n",
    "        return d ** f\n",
    "    return inner\n",
    "\n",
    "wykladnia = outer(5)\n",
    "wykladnia(2)\n",
    "    "
   ]
  },
  {
   "cell_type": "code",
   "execution_count": null,
   "id": "c1729b01-10e5-4829-8e43-f364f739c80c",
   "metadata": {},
   "outputs": [],
   "source": []
  }
 ],
 "metadata": {
  "kernelspec": {
   "display_name": "Python 3",
   "language": "python",
   "name": "python3"
  },
  "language_info": {
   "codemirror_mode": {
    "name": "ipython",
    "version": 3
   },
   "file_extension": ".py",
   "mimetype": "text/x-python",
   "name": "python",
   "nbconvert_exporter": "python",
   "pygments_lexer": "ipython3",
   "version": "3.8.5"
  }
 },
 "nbformat": 4,
 "nbformat_minor": 5
}
