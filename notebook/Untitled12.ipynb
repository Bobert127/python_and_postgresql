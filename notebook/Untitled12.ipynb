{
 "cells": [
  {
   "cell_type": "code",
   "execution_count": 4,
   "id": "b0b3ad12-8189-457d-8609-1ed54fc3b696",
   "metadata": {},
   "outputs": [],
   "source": [
    "def my_power(exponation):\n",
    "    def inner(digit):\n",
    "        return digit ** exponation\n",
    "    return inner"
   ]
  },
  {
   "cell_type": "code",
   "execution_count": 6,
   "id": "7d34a497-33b5-4450-a78c-76eaa3740721",
   "metadata": {},
   "outputs": [],
   "source": [
    "zmianna_1 = my_power(3)"
   ]
  },
  {
   "cell_type": "code",
   "execution_count": 8,
   "id": "e06338c2-8eb3-4d1e-b01c-b8e0877aa791",
   "metadata": {},
   "outputs": [
    {
     "data": {
      "text/plain": [
       "27"
      ]
     },
     "execution_count": 8,
     "metadata": {},
     "output_type": "execute_result"
    }
   ],
   "source": [
    "zmianna_1(3)"
   ]
  },
  {
   "cell_type": "code",
   "execution_count": 1,
   "id": "7ffb0549-686a-4302-9f6c-22c60130318d",
   "metadata": {},
   "outputs": [],
   "source": [
    "def my_sum(razem):\n",
    "    def inner(dodawanie):\n",
    "        return razem * dodawanie\n",
    "    return inner\n"
   ]
  },
  {
   "cell_type": "code",
   "execution_count": 2,
   "id": "2fea79e0-266f-4977-b3ab-e247bceb4bfe",
   "metadata": {},
   "outputs": [],
   "source": [
    "zmienna2 = my_sum(37)"
   ]
  },
  {
   "cell_type": "code",
   "execution_count": 3,
   "id": "470a22bd-c530-4225-9a6d-58765f4986ed",
   "metadata": {},
   "outputs": [
    {
     "data": {
      "text/plain": [
       "296"
      ]
     },
     "execution_count": 3,
     "metadata": {},
     "output_type": "execute_result"
    }
   ],
   "source": [
    "zmienna2(8)"
   ]
  },
  {
   "cell_type": "code",
   "execution_count": null,
   "id": "908450ce-0de5-4acd-99e4-46a7c3b28954",
   "metadata": {},
   "outputs": [],
   "source": [
    "products = [\n",
    "     {\n",
    "         \"id\": \"1\",\n",
    "         \"name\": \"house\",\n",
    "         \"price\": 570000\n",
    "     }\n",
    "     {\n",
    "         \"id\": \"2\",\n",
    "         \"name\": \"flat\",\n",
    "         \"price\": 220000\n",
    "     }\n",
    "\n",
    "    \n",
    "]\n",
    "def produkt ():\n",
    "    a ="
   ]
  }
 ],
 "metadata": {
  "kernelspec": {
   "display_name": "Python 3",
   "language": "python",
   "name": "python3"
  },
  "language_info": {
   "codemirror_mode": {
    "name": "ipython",
    "version": 3
   },
   "file_extension": ".py",
   "mimetype": "text/x-python",
   "name": "python",
   "nbconvert_exporter": "python",
   "pygments_lexer": "ipython3",
   "version": "3.8.5"
  }
 },
 "nbformat": 4,
 "nbformat_minor": 5
}
