{
 "cells": [
  {
   "cell_type": "code",
   "execution_count": null,
   "id": "27c917e8-4dc9-45c0-8405-a5072b6dcccc",
   "metadata": {},
   "outputs": [],
   "source": [
    "dice = (\"D100\", \"D20\", \"D12\", \"D10\", \"D8\", \"D6\", \"D4\", \"D3\")\n",
    "\n",
    "print dice[1]\n",
    "\n"
   ]
  },
  {
   "cell_type": "code",
   "execution_count": null,
   "id": "2529df2b-8893-49b5-a48b-5673c99ef266",
   "metadata": {},
   "outputs": [],
   "source": []
  }
 ],
 "metadata": {
  "kernelspec": {
   "display_name": "Python 3",
   "language": "python",
   "name": "python3"
  },
  "language_info": {
   "codemirror_mode": {
    "name": "ipython",
    "version": 3
   },
   "file_extension": ".py",
   "mimetype": "text/x-python",
   "name": "python",
   "nbconvert_exporter": "python",
   "pygments_lexer": "ipython3",
   "version": "3.8.5"
  }
 },
 "nbformat": 4,
 "nbformat_minor": 5
}
