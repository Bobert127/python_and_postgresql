{
 "cells": [
  {
   "cell_type": "code",
   "execution_count": 29,
   "id": "bc71d396-a0a8-4274-ab3c-d5e8439a88ff",
   "metadata": {},
   "outputs": [
    {
     "name": "stdout",
     "output_type": "stream",
     "text": [
      "friend\n"
     ]
    }
   ],
   "source": [
    "import random\n",
    "\n",
    "words = [\"hello\", \"darkness\", \"my\", \"old\", \"friend\"]\n",
    "\n",
    "a = random.randint(0, 4)\n",
    "\n",
    "def random_word(a):\n",
    "    \n",
    "\n",
    "    #print(random.randint(1, 5))\n",
    "    \n",
    "    print(words[a])\n",
    "\n",
    "random_word(a)"
   ]
  },
  {
   "cell_type": "code",
   "execution_count": 30,
   "id": "728ff393-de0f-4d3d-b06f-8d458fe9bdd3",
   "metadata": {},
   "outputs": [
    {
     "name": "stdout",
     "output_type": "stream",
     "text": [
      "16\n"
     ]
    }
   ],
   "source": [
    "def quadratic_function(x, a, b, c):\n",
    "    print((a*x) ** 2 + b*x + c)\n",
    "\n",
    "quadratic_function(1,3,5,2)"
   ]
  },
  {
   "cell_type": "code",
   "execution_count": 31,
   "id": "bd2e6481-e5e3-4feb-941f-515700bc0120",
   "metadata": {},
   "outputs": [
    {
     "name": "stdout",
     "output_type": "stream",
     "text": [
      "[7, 6]\n"
     ]
    }
   ],
   "source": [
    "l = [1,2,3,4,5,6,7]\n",
    "print(l[:4:-1])"
   ]
  },
  {
   "cell_type": "code",
   "execution_count": 32,
   "id": "0b986011-98c2-4a31-b3f7-f9639c23920f",
   "metadata": {},
   "outputs": [
    {
     "name": "stdout",
     "output_type": "stream",
     "text": [
      "a b c\n"
     ]
    }
   ],
   "source": [
    "print(' '.join(['a', 'b', 'c']))"
   ]
  },
  {
   "cell_type": "code",
   "execution_count": 37,
   "id": "0565b055-0951-4563-9fbd-8b574e743d8b",
   "metadata": {},
   "outputs": [
    {
     "name": "stdout",
     "output_type": "stream",
     "text": [
      "mama tata 3 4\n"
     ]
    }
   ],
   "source": [
    "a = \"mama\"\n",
    "b = \"tata\"\n",
    "def make_tuple(a,b,c=3,d=4):\n",
    "    print(a,b,c,d)\n",
    "    \n",
    "make_tuple(a, b)\n"
   ]
  },
  {
   "cell_type": "code",
   "execution_count": 39,
   "id": "e38fc8e9-18e4-40f7-a322-1cd7fe57e190",
   "metadata": {},
   "outputs": [
    {
     "name": "stdout",
     "output_type": "stream",
     "text": [
      "0 0 0 0\n"
     ]
    }
   ],
   "source": [
    "a = 0\n",
    "b = 0\n",
    "c = 0\n",
    "d = 0\n",
    "\n",
    "def make_tuple(a,b,c=3,d=4):\n",
    "    print(a,b,c,d)\n",
    "    \n",
    "make_tuple(a, b, c, d)"
   ]
  },
  {
   "cell_type": "code",
   "execution_count": 48,
   "id": "d122312d-dac2-4ac0-a5e9-6c935bae13b3",
   "metadata": {},
   "outputs": [
    {
     "name": "stdout",
     "output_type": "stream",
     "text": [
      "[1]\n"
     ]
    }
   ],
   "source": [
    "l = [1, 7 ,6 ,8 ,4]\n",
    "k =[]\n",
    "k.append(l[0])\n",
    "print(k)\n",
    "\n",
    "   "
   ]
  },
  {
   "cell_type": "code",
   "execution_count": 55,
   "id": "151adc59-a84a-4079-baec-928c66217e2e",
   "metadata": {},
   "outputs": [
    {
     "name": "stdout",
     "output_type": "stream",
     "text": [
      "[1, 3]\n"
     ]
    }
   ],
   "source": [
    "l = [1, 7 ,6 ,8 ,3]\n",
    "\n",
    "def find_first_and_last():\n",
    "    k = []\n",
    "    k.append(l[0])\n",
    "    k.append(l[-1])\n",
    "    \n",
    "    print(k)\n",
    "find_first_and_last()"
   ]
  },
  {
   "cell_type": "code",
   "execution_count": 107,
   "id": "b6160841-0613-4ff9-b848-b1dead286809",
   "metadata": {},
   "outputs": [
    {
     "name": "stdout",
     "output_type": "stream",
     "text": [
      "[-1, 5]\n"
     ]
    }
   ],
   "source": [
    "def find_boundaries(a, l2 =[]):\n",
    "    l2 = []\n",
    "    l2.append(a)\n",
    "    kmax = max(l2)\n",
    "    kmin = min(l2)\n",
    "    k3 = []\n",
    "    k3.append(kmin)\n",
    "    k3.append(kmax)\n",
    "\n",
    "find_boundaries(5, 7)\n",
    "\n",
    "print(k3)"
   ]
  },
  {
   "cell_type": "code",
   "execution_count": null,
   "id": "b739fd50-17e1-47fe-9b44-c87d7eecb925",
   "metadata": {},
   "outputs": [],
   "source": []
  }
 ],
 "metadata": {
  "kernelspec": {
   "display_name": "Python 3",
   "language": "python",
   "name": "python3"
  },
  "language_info": {
   "codemirror_mode": {
    "name": "ipython",
    "version": 3
   },
   "file_extension": ".py",
   "mimetype": "text/x-python",
   "name": "python",
   "nbconvert_exporter": "python",
   "pygments_lexer": "ipython3",
   "version": "3.8.5"
  }
 },
 "nbformat": 4,
 "nbformat_minor": 5
}
