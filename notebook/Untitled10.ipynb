{
 "cells": [
  {
   "cell_type": "code",
   "execution_count": 17,
   "id": "7472c5f5-dcd8-4a22-91b7-561b7bbb156f",
   "metadata": {},
   "outputs": [
    {
     "ename": "IndentationError",
     "evalue": "expected an indented block (<ipython-input-17-603437dce131>, line 2)",
     "output_type": "error",
     "traceback": [
      "\u001b[0;36m  File \u001b[0;32m\"<ipython-input-17-603437dce131>\"\u001b[0;36m, line \u001b[0;32m2\u001b[0m\n\u001b[0;31m    mylist = mylist[:]\u001b[0m\n\u001b[0m    ^\u001b[0m\n\u001b[0;31mIndentationError\u001b[0m\u001b[0;31m:\u001b[0m expected an indented block\n"
     ]
    }
   ],
   "source": [
    "def changeme2(mylist):\n",
    "mylist = mylist[:]\n",
    "mylist.append([1,2,3,4])\n",
    "print(\"Wartość wewnątrz funkcji: \", mylist)\n",
    "\n",
    "\n",
    "lista = [10,20,30]\n",
    "\n",
    "def changeme2(mylist):\n",
    "    mylist = mylist[:]\n",
    "    mylist.append([1,2,3,4])\n",
    "    print(\"Wartość wewnątrz funkcji: \", mylist)"
   ]
  },
  {
   "cell_type": "code",
   "execution_count": null,
   "id": "187eaedc-39bb-4962-b016-6be73a152345",
   "metadata": {},
   "outputs": [],
   "source": []
  }
 ],
 "metadata": {
  "kernelspec": {
   "display_name": "Python 3",
   "language": "python",
   "name": "python3"
  },
  "language_info": {
   "codemirror_mode": {
    "name": "ipython",
    "version": 3
   },
   "file_extension": ".py",
   "mimetype": "text/x-python",
   "name": "python",
   "nbconvert_exporter": "python",
   "pygments_lexer": "ipython3",
   "version": "3.8.5"
  }
 },
 "nbformat": 4,
 "nbformat_minor": 5
}
