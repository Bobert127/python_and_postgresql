{
 "cells": [
  {
   "cell_type": "code",
   "execution_count": 65,
   "id": "2e575c6a-cada-4893-9ed9-80a87aa1c186",
   "metadata": {},
   "outputs": [
    {
     "name": "stdout",
     "output_type": "stream",
     "text": [
      "liczba 3 or Robert nie jest naturlana\n",
      "None\n"
     ]
    }
   ],
   "source": [
    "def divide(a, b):\n",
    "    try:\n",
    "        if a or b == int: \n",
    "            return a / b\n",
    "    except: #niewłaściwy typ\n",
    "        print(f\"liczba {a} or {b} nie jest naturlana\")\n",
    "\n",
    "     \n",
    "dane = divide(3, \"Robert\")\n",
    "\n",
    "print(dane)\n"
   ]
  },
  {
   "cell_type": "code",
   "execution_count": 115,
   "id": "81ed4a02-4f11-4950-b32c-1f59b414771f",
   "metadata": {},
   "outputs": [
    {
     "name": "stdout",
     "output_type": "stream",
     "text": [
      "nie ma takiego numeru\n",
      "nie ma takiego numeru\n"
     ]
    }
   ],
   "source": [
    "l2 = [125, 126]\n",
    "\n",
    "\n",
    "def phone(number):\n",
    "    try:\n",
    "        for a in (l2):\n",
    "            result = a\n",
    "            if a == number:\n",
    "                print(number)\n",
    "            else:\n",
    "                print(\"nie ma takiego numeru\")\n",
    "    except:\n",
    "        print(\"nie ma takiego numeru\")\n",
    "        \n",
    "phone(127)\n"
   ]
  },
  {
   "cell_type": "code",
   "execution_count": null,
   "id": "e61bd7f5-7a5c-4d16-a892-a12cc7d80426",
   "metadata": {},
   "outputs": [],
   "source": []
  }
 ],
 "metadata": {
  "kernelspec": {
   "display_name": "Python 3",
   "language": "python",
   "name": "python3"
  },
  "language_info": {
   "codemirror_mode": {
    "name": "ipython",
    "version": 3
   },
   "file_extension": ".py",
   "mimetype": "text/x-python",
   "name": "python",
   "nbconvert_exporter": "python",
   "pygments_lexer": "ipython3",
   "version": "3.8.5"
  }
 },
 "nbformat": 4,
 "nbformat_minor": 5
}
