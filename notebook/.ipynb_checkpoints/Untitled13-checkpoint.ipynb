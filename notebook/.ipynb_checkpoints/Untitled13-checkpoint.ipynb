{
 "cells": [
  {
   "cell_type": "code",
   "execution_count": 1,
   "id": "b10c87b5-ba29-4d2d-9c91-e4e9ab3177da",
   "metadata": {},
   "outputs": [
    {
     "name": "stdout",
     "output_type": "stream",
     "text": [
      "Hey!\n"
     ]
    }
   ],
   "source": [
    "def outerFunction(text):\n",
    "    text = text\n",
    " \n",
    "    def innerFunction():\n",
    "        print(text)\n",
    " \n",
    "    innerFunction()\n",
    " \n",
    "if __name__ == '__main__':\n",
    "    outerFunction('Hey!')"
   ]
  },
  {
   "cell_type": "code",
   "execution_count": 2,
   "id": "3c25fec4-82c3-4995-ab48-c12d52bfbe10",
   "metadata": {},
   "outputs": [
    {
     "name": "stdout",
     "output_type": "stream",
     "text": [
      "6\n",
      "9\n",
      "5\n",
      "10\n"
     ]
    }
   ],
   "source": [
    "# Python program to illustrate\n",
    "# closures\n",
    "import logging\n",
    "logging.basicConfig(filename='example.log',\n",
    "\t\t\t\t\tlevel=logging.INFO)\n",
    "\n",
    "\n",
    "def logger(func):\n",
    "\tdef log_func(*args):\n",
    "\t\tlogging.info(\n",
    "\t\t\t'Running \"{}\" with arguments {}'.format(func.__name__,\n",
    "\t\t\t\t\t\t\t\t\t\t\t\t\targs))\n",
    "\t\tprint(func(*args))\n",
    "\t\t\n",
    "\t# Necessary for closure to\n",
    "\t# work (returning WITHOUT parenthesis)\n",
    "\treturn log_func\t\t\t\n",
    "\n",
    "def add(x, y):\n",
    "\treturn x+y\n",
    "\n",
    "def sub(x, y):\n",
    "\treturn x-y\n",
    "\n",
    "add_logger = logger(add)\n",
    "sub_logger = logger(sub)\n",
    "\n",
    "add_logger(3, 3)\n",
    "add_logger(4, 5)\n",
    "\n",
    "sub_logger(10, 5)\n",
    "sub_logger(20, 10)\n"
   ]
  },
  {
   "cell_type": "code",
   "execution_count": 35,
   "id": "d01ca92d-dbf3-4667-959c-b8451b2dca87",
   "metadata": {},
   "outputs": [
    {
     "name": "stdout",
     "output_type": "stream",
     "text": [
      "AJTWW\n"
     ]
    }
   ],
   "source": [
    "def shorten(a):\n",
    "    return \"\".join(i[0] for i in a.split()).upper()\n",
    "\n",
    "\n",
    "wynik = shorten(\"a ja to wszytko wiem\")\n",
    "print(wynik)\n"
   ]
  },
  {
   "cell_type": "code",
   "execution_count": 47,
   "id": "48d71d2a-1ac1-475e-94d0-a130005f2ea6",
   "metadata": {},
   "outputs": [
    {
     "name": "stdout",
     "output_type": "stream",
     "text": [
      "{'female': ['Alicja', 'Barbara'], 'male': ['Andrzej', 'Henryk', 'Cezary']}\n"
     ]
    }
   ],
   "source": [
    "names = [\"Andrzej\", \"Henryk\", \"Alicja\", \"Cezary\", \"Barbara\"]\n",
    "def name_sorter(names):\n",
    "    result = {\n",
    "        'female': [],\n",
    "        'male': []\n",
    "    }\n",
    "    \n",
    "    for name in names:\n",
    "        if name[-1] == 'a':\n",
    "            result['female'].append(name)\n",
    "        else:\n",
    "            result['male'].append(name)\n",
    "    return result\n",
    "print(name_sorter(names))\n",
    "#wynik = name_sorter(names)\n",
    "    "
   ]
  },
  {
   "cell_type": "code",
   "execution_count": 58,
   "id": "36bd9e6b-5d3f-47e2-9c25-cf1324a29093",
   "metadata": {},
   "outputs": [
    {
     "name": "stdout",
     "output_type": "stream",
     "text": [
      "False\n"
     ]
    }
   ],
   "source": [
    "def check_palindrome(b):\n",
    "    b = b.lower().replace(' ', '')\n",
    "    return b ==  b[::-1]\n",
    "print(check_palindrome(\"Kobyła ma macy bok\"))"
   ]
  },
  {
   "cell_type": "code",
   "execution_count": 87,
   "id": "b5a30e3d-6681-4e4f-8e51-540a80741864",
   "metadata": {},
   "outputs": [
    {
     "data": {
      "text/plain": [
       "[2, 4, 8, 10, 14, 16, 20]"
      ]
     },
     "execution_count": 87,
     "metadata": {},
     "output_type": "execute_result"
    }
   ],
   "source": [
    "def div(x, y):\n",
    "    l2 = []\n",
    "    z = range(x, y + 1, 1)\n",
    "    for i in z:\n",
    "        if i % 2 == 0 and i % 3 != 0:\n",
    "            l2.append(i)\n",
    "        \n",
    "    return l2\n",
    "        \n",
    "            \n",
    "div(0, 20)\n",
    "            "
   ]
  },
  {
   "cell_type": "code",
   "execution_count": 98,
   "id": "4913d86b-95e3-435b-a818-ed74c0716ce1",
   "metadata": {},
   "outputs": [
    {
     "data": {
      "text/plain": [
       "13"
      ]
     },
     "execution_count": 98,
     "metadata": {},
     "output_type": "execute_result"
    }
   ],
   "source": [
    "import random\n",
    "def roll(k, t = 6, m = 0):\n",
    "    if t not in [3, 4, 6, 8, 10, 12, 100]:\n",
    "        raise Exception(\"No such dice!\")\n",
    "    return sum(random.randint(1,6) for _ in range(5))  + m\n",
    "roll(2, 6, -2)\n",
    "    "
   ]
  },
  {
   "cell_type": "code",
   "execution_count": null,
   "id": "c94fc882-5ce1-4850-ac0a-6fa31f0b61ec",
   "metadata": {},
   "outputs": [],
   "source": []
  }
 ],
 "metadata": {
  "kernelspec": {
   "display_name": "Python 3",
   "language": "python",
   "name": "python3"
  },
  "language_info": {
   "codemirror_mode": {
    "name": "ipython",
    "version": 3
   },
   "file_extension": ".py",
   "mimetype": "text/x-python",
   "name": "python",
   "nbconvert_exporter": "python",
   "pygments_lexer": "ipython3",
   "version": "3.8.5"
  }
 },
 "nbformat": 4,
 "nbformat_minor": 5
}
