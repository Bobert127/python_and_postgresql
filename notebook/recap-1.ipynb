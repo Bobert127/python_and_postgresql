{
 "cells": [
  {
   "cell_type": "code",
   "execution_count": 84,
   "id": "12d1a8ce-8153-4b27-b339-9970a258dfda",
   "metadata": {},
   "outputs": [],
   "source": [
    "def my_power(exponation):\n",
    "    def inner(digit):\n",
    "        return digit ** exponation\n",
    "    return inner"
   ]
  },
  {
   "cell_type": "code",
   "execution_count": 85,
   "id": "366202b7-d4dc-4d42-8c87-2ca69d621981",
   "metadata": {},
   "outputs": [],
   "source": [
    "power_4 = my_power(4)\n",
    "power_3 = my_power(4)\n",
    "power_7 = my_power(4)"
   ]
  },
  {
   "cell_type": "code",
   "execution_count": 12,
   "id": "f92282c4-a5ee-4bdd-8538-11417f595360",
   "metadata": {},
   "outputs": [
    {
     "ename": "TypeError",
     "evalue": "'int' object is not callable",
     "output_type": "error",
     "traceback": [
      "\u001b[0;31m---------------------------------------------------------------------------\u001b[0m",
      "\u001b[0;31mTypeError\u001b[0m                                 Traceback (most recent call last)",
      "\u001b[0;32m<ipython-input-12-22d2b79dede1>\u001b[0m in \u001b[0;36m<module>\u001b[0;34m\u001b[0m\n\u001b[0;32m----> 1\u001b[0;31m \u001b[0mpower_4\u001b[0m\u001b[0;34m(\u001b[0m\u001b[0;36m3\u001b[0m\u001b[0;34m)\u001b[0m\u001b[0;34m\u001b[0m\u001b[0;34m\u001b[0m\u001b[0m\n\u001b[0m",
      "\u001b[0;31mTypeError\u001b[0m: 'int' object is not callable"
     ]
    }
   ],
   "source": [
    "\n",
    "power_4(3)"
   ]
  },
  {
   "cell_type": "code",
   "execution_count": null,
   "id": "344d4d5b-06c3-44a9-8085-f3d8820d62a3",
   "metadata": {},
   "outputs": [],
   "source": [
    "{\n",
    "    \"name\": \"robert\",\n",
    "    \"age\": 48,\n",
    "    \"city\": \"Olsztyn\",\n",
    "    \"hobbis\": (\"python\", \"tenis\", \"ogród\")\n",
    "}\n"
   ]
  },
  {
   "cell_type": "code",
   "execution_count": null,
   "id": "c8c8df63-39b7-41ef-ae92-37c28a370b30",
   "metadata": {},
   "outputs": [],
   "source": []
  },
  {
   "cell_type": "code",
   "execution_count": null,
   "id": "26f891fc-5872-49b3-b9e4-3ea49450c6b1",
   "metadata": {},
   "outputs": [],
   "source": []
  },
  {
   "cell_type": "code",
   "execution_count": 79,
   "id": "8075d9b9-5a02-4a69-a2cc-feafa84450da",
   "metadata": {},
   "outputs": [],
   "source": [
    "data = [\n",
    "    {\n",
    "        \"name\": \"pawel\",\n",
    "        \"age\": 36,\n",
    "        \"city\": \"krakow\",\n",
    "        \"hobbies\": [\"python\", \"computers\", \"drugs\"]\n",
    "    },\n",
    "    {\n",
    "        \"name\": \"martyna\",\n",
    "        \"age\": 27,\n",
    "        \"city\": \"warszawa\",\n",
    "        \"hobbies\": [\"books\", \"sport\", \"death\"]\n",
    "    }, {\n",
    "        \"name\": \"dominik\",\n",
    "        \"age\": 26,\n",
    "        \"city\": \"bialystok\",\n",
    "        \"hobbies\": [\"python\", \"video_games\", \"music\"]\n",
    "    },\n",
    "    {\n",
    "        \"name\": \"robert\",\n",
    "        \"age\": 36,\n",
    "        \"city\": \"olsztyn\",\n",
    "        \"hobbies\": [\"python\", \"tenis\", \"ogród\"]\n",
    "    },\n",
    "    {\n",
    "        \"name\": \"lukasz\",\n",
    "        \"age\": 39,\n",
    "        \"city\": \"warszawa\",\n",
    "        \"hobbies\": [\"biking\", \"kettlebell\", \"cooking\"]\n",
    "    },\n",
    "    {\n",
    "        \"name\": \"kinga\",\n",
    "        \"age\": 32,\n",
    "        \"city\": \"warszawa\",\n",
    "        \"hobbies\": [\"travel\", \"wine\", \"sports\"]\n",
    "    },\n",
    "    {\n",
    "        \"name\": \"rafal\",\n",
    "        \"age\": 27,\n",
    "        \"city\": \"warszawa\",\n",
    "        \"hobbies\": [\"computers\", \"football\", \"party\"]\n",
    "    },\n",
    "    {\n",
    "        \"name\": \"robert\",\n",
    "        \"age\": 48,\n",
    "        \"city\": \"olsztyn\",\n",
    "        \"hobbies\": [\"python\", \"tenis\", \"ogród\"]\n",
    "    },\n",
    "    {\n",
    "        \"name\": \"mateusz\",\n",
    "        \"age\": 21,\n",
    "        \"city\": \"bytom\",\n",
    "        \"hobbies\": [\"python\", \"games\", \"tv\"]\n",
    "    },\n",
    "    {\n",
    "        \"name\": \"anita\",\n",
    "        \"age\": 35,\n",
    "        \"city\": \"krakow\",\n",
    "        \"hobbies\": [\"gry\", \"fotografia\", \"ksiazki\"]\n",
    "    },\n",
    "    {\n",
    "        \"name\": \"rafał\",\n",
    "        \"age\": 35,\n",
    "        \"city\": \"warszawa\",\n",
    "        \"hobbies\": [\"sport\", \"music\", \"something\"]\n",
    "    },\n",
    "    {\n",
    "        \"name\": \"agnieszka\",\n",
    "        \"age\": 43,\n",
    "        \"city\": \"poznań\",\n",
    "        \"hobbies\": [\"reading\", \"ice skating\", \"cooking\"]\n",
    "    },\n",
    "    {\n",
    "        \"name\": \"tomek\",\n",
    "        \"age\": 32,\n",
    "        \"city\": \"kopenhaga\",\n",
    "        \"hobbies\": [\"klask\", \"video games\", \"books\"]\n",
    "    },\n",
    "    {\n",
    "        \"name\": \"karol\",\n",
    "        \"age\": 36,\n",
    "        \"city\": \"busko\",\n",
    "        \"hobbies\": [\"tennis\", \"movies\", \"cooking\"]},\n",
    "    {\n",
    "        \"name\": \"szymon\",\n",
    "        \"age\": 36,\n",
    "        \"city\": \"kraków\",\n",
    "        \"hobbies\": [\"Brak\", \"sen\", \"nic\"]\n",
    "    },\n",
    "    {\n",
    "        \"name\": \"jan\",\n",
    "        \"age\": 34,\n",
    "        \"city\": \"warszawa\",\n",
    "        \"hobbies\": [\"python\", \"snowboard\", \"drugs\"]\n",
    "    }\n",
    "]\n"
   ]
  },
  {
   "cell_type": "code",
   "execution_count": 26,
   "id": "a9ac0c6e-daaa-49e3-b477-82332d8364ed",
   "metadata": {},
   "outputs": [
    {
     "data": {
      "text/plain": [
       "33.9375"
      ]
     },
     "execution_count": 26,
     "metadata": {},
     "output_type": "execute_result"
    }
   ],
   "source": [
    "counter = 0\n",
    "\n",
    "for human in data:\n",
    "    counter += human[\"age\"]\n",
    "\n",
    "counter / len(data)"
   ]
  },
  {
   "cell_type": "code",
   "execution_count": 28,
   "id": "20389fe6-aa3d-4504-83c4-beb5b862576e",
   "metadata": {},
   "outputs": [
    {
     "data": {
      "text/plain": [
       "32.333333333333336"
      ]
     },
     "execution_count": 28,
     "metadata": {},
     "output_type": "execute_result"
    }
   ],
   "source": [
    "counter = 0\n",
    "quantity = 0\n",
    "\n",
    "for item in data:\n",
    "    if item[\"city\"].lower() == \"warszawa\":\n",
    "        counter += item[\"age\"]\n",
    "        quantity += 1\n",
    "\n",
    "\n",
    "counter / quantity   "
   ]
  },
  {
   "cell_type": "code",
   "execution_count": 31,
   "id": "8d0e64c6-a64f-4a17-9dd7-dcfac351b8bf",
   "metadata": {},
   "outputs": [
    {
     "data": {
      "text/plain": [
       "['martyna', 'lukasz', 'kinga', 'rafal', 'rafał', 'jan']"
      ]
     },
     "execution_count": 31,
     "metadata": {},
     "output_type": "execute_result"
    }
   ],
   "source": [
    "l = []\n",
    "\n",
    "for element in data:\n",
    "    if element[\"city\"].lower() == \"warszawa\":\n",
    "        l.append(element[\"name\"])\n",
    "l"
   ]
  },
  {
   "cell_type": "code",
   "execution_count": 2,
   "id": "cea549bb-84e1-4af6-b280-943e783fe0d3",
   "metadata": {},
   "outputs": [
    {
     "ename": "NameError",
     "evalue": "name 'data' is not defined",
     "output_type": "error",
     "traceback": [
      "\u001b[0;31m---------------------------------------------------------------------------\u001b[0m",
      "\u001b[0;31mNameError\u001b[0m                                 Traceback (most recent call last)",
      "\u001b[0;32m<ipython-input-2-57f00fdc89a2>\u001b[0m in \u001b[0;36m<module>\u001b[0;34m\u001b[0m\n\u001b[1;32m     17\u001b[0m \u001b[0mpeople\u001b[0m \u001b[0;34m=\u001b[0m \u001b[0;34m[\u001b[0m\u001b[0;34m]\u001b[0m\u001b[0;34m\u001b[0m\u001b[0;34m\u001b[0m\u001b[0m\n\u001b[1;32m     18\u001b[0m \u001b[0;34m\u001b[0m\u001b[0m\n\u001b[0;32m---> 19\u001b[0;31m \u001b[0;32mfor\u001b[0m \u001b[0me\u001b[0m \u001b[0;32min\u001b[0m \u001b[0mdata\u001b[0m\u001b[0;34m:\u001b[0m\u001b[0;34m\u001b[0m\u001b[0;34m\u001b[0m\u001b[0m\n\u001b[0m\u001b[1;32m     20\u001b[0m     \u001b[0;32mif\u001b[0m \u001b[0me\u001b[0m\u001b[0;34m[\u001b[0m\u001b[0;34m\"age\"\u001b[0m\u001b[0;34m]\u001b[0m \u001b[0;34m>\u001b[0m \u001b[0;36m30\u001b[0m \u001b[0;32mand\u001b[0m \u001b[0me\u001b[0m\u001b[0;34m[\u001b[0m\u001b[0;34m\"city\"\u001b[0m\u001b[0;34m]\u001b[0m \u001b[0;32mnot\u001b[0m \u001b[0;32min\u001b[0m \u001b[0;34m[\u001b[0m\u001b[0;34m\"krakow\"\u001b[0m\u001b[0;34m,\u001b[0m \u001b[0;34m\"warszawa\"\u001b[0m\u001b[0;34m]\u001b[0m\u001b[0;34m:\u001b[0m\u001b[0;34m\u001b[0m\u001b[0;34m\u001b[0m\u001b[0m\n\u001b[1;32m     21\u001b[0m         \u001b[0mpeople\u001b[0m\u001b[0;34m.\u001b[0m\u001b[0mappend\u001b[0m\u001b[0;34m(\u001b[0m\u001b[0me\u001b[0m\u001b[0;34m[\u001b[0m\u001b[0;34m\"name\"\u001b[0m\u001b[0;34m]\u001b[0m\u001b[0;34m)\u001b[0m\u001b[0;34m\u001b[0m\u001b[0;34m\u001b[0m\u001b[0m\n",
      "\u001b[0;31mNameError\u001b[0m: name 'data' is not defined"
     ]
    }
   ],
   "source": [
    "\n",
    "def fetch_words(url):\n",
    "    \"\"\" fetch words from url of utf-8 text document encoded\n",
    "\n",
    "    :param url: url of utf-8 text document encoded\n",
    "    :type url str\n",
    "    :return: list words from text document\n",
    "    :rtype list\n",
    "    \"\"\"\n",
    "    with urlopen(url) as response:\n",
    "        words = []\n",
    "\n",
    "        for line in response:\n",
    "            for word in line.decode('UTF-8').split():\n",
    "                words.append(word)\n",
    "\n",
    "        return words\n",
    "people = []\n",
    "\n",
    "for e in data:\n",
    "    if e[\"age\"] > 30 and e[\"city\"] not in [\"krakow\", \"warszawa\"]:\n",
    "        people.append(e[\"name\"])\n",
    "people\n"
   ]
  },
  {
   "cell_type": "code",
   "execution_count": 4,
   "id": "b6a2a7d5-4fc6-410c-ba2c-e61a815594cc",
   "metadata": {},
   "outputs": [],
   "source": [
    "def get_unique_hobbies(data):\n",
    "\n",
    "    hobbies = []\n",
    "\n",
    "\n",
    "    for smth in data:\n",
    "        try:\n",
    "            result = hobby in smth[\"hobbies\"]\n",
    "        except KeyError:\n",
    "            print(f\"{smth}  does not have hobbies key\")\n",
    "            continue\n",
    "        \n",
    "        for hobby in smth[\"hobbies\"]:\n",
    "            hobbies.append(hobby.lower())\n",
    "    return len(set(hobbies))"
   ]
  },
  {
   "cell_type": "code",
   "execution_count": 74,
   "id": "bebe9ce1-06fe-44ae-b085-f54468bedab0",
   "metadata": {},
   "outputs": [
    {
     "data": {
      "text/plain": [
       "48"
      ]
     },
     "execution_count": 74,
     "metadata": {},
     "output_type": "execute_result"
    }
   ],
   "source": [
    "len(data) *3 "
   ]
  },
  {
   "cell_type": "code",
   "execution_count": 5,
   "id": "36578681-d776-4fb4-b7a3-77581f0c61c0",
   "metadata": {},
   "outputs": [
    {
     "ename": "NameError",
     "evalue": "name 'data' is not defined",
     "output_type": "error",
     "traceback": [
      "\u001b[0;31m---------------------------------------------------------------------------\u001b[0m",
      "\u001b[0;31mNameError\u001b[0m                                 Traceback (most recent call last)",
      "\u001b[0;32m<ipython-input-5-c5e7f0c22dc3>\u001b[0m in \u001b[0;36m<module>\u001b[0;34m\u001b[0m\n\u001b[0;32m----> 1\u001b[0;31m \u001b[0mget_unique_hobbies\u001b[0m\u001b[0;34m(\u001b[0m\u001b[0mdata\u001b[0m\u001b[0;34m)\u001b[0m\u001b[0;34m\u001b[0m\u001b[0;34m\u001b[0m\u001b[0m\n\u001b[0m\u001b[1;32m      2\u001b[0m \u001b[0;34m\u001b[0m\u001b[0m\n\u001b[1;32m      3\u001b[0m \u001b[0;34m\u001b[0m\u001b[0m\n",
      "\u001b[0;31mNameError\u001b[0m: name 'data' is not defined"
     ]
    }
   ],
   "source": [
    "get_unique_hobbies(data)\n",
    "    \n",
    "\n"
   ]
  },
  {
   "cell_type": "code",
   "execution_count": 76,
   "id": "d1e03816-a115-4e4c-85a5-67d4521171b1",
   "metadata": {},
   "outputs": [],
   "source": [
    "def get_unique_hobbies(data):\n",
    "    hobbies = []\n",
    "    for smth in data:\n",
    "        try:\n",
    "            result = smth[\"hobbies\"]\n",
    "        except KeyError:\n",
    "            print(f\"{smth} does not have hobbies key\")\n",
    "            continue\n",
    "            #raise ValueError(f\"{smth} does not have hobbies key\")\n",
    "        for hobby in smth[\"hobbies\"]:\n",
    "            hobbies.append(hobby.lower())\n",
    "    return len(set(hobbies))"
   ]
  },
  {
   "cell_type": "code",
   "execution_count": 80,
   "id": "cf077b7c-f4c4-495e-bbc0-e8a2b2057098",
   "metadata": {},
   "outputs": [
    {
     "data": {
      "text/plain": [
       "34"
      ]
     },
     "execution_count": 80,
     "metadata": {},
     "output_type": "execute_result"
    }
   ],
   "source": [
    "get_unique_hobbies(data)"
   ]
  },
  {
   "cell_type": "code",
   "execution_count": 83,
   "id": "af335fe1-a06f-4e4f-a83a-e5d5974e1ac7",
   "metadata": {},
   "outputs": [
    {
     "data": {
      "text/plain": [
       "33.5"
      ]
     },
     "execution_count": 83,
     "metadata": {},
     "output_type": "execute_result"
    }
   ],
   "source": [
    "python_entusiasts = [person for person in data if \"python\" in person[\"hobbies\"]]\n",
    "sum([person[\"age\"] for person in python_entusiasts]) / len(python_entusiasts)"
   ]
  },
  {
   "cell_type": "code",
   "execution_count": null,
   "id": "b9f6db35-f4ea-4a62-96e9-db498851d88f",
   "metadata": {},
   "outputs": [],
   "source": []
  }
 ],
 "metadata": {
  "kernelspec": {
   "display_name": "Python 3",
   "language": "python",
   "name": "python3"
  },
  "language_info": {
   "codemirror_mode": {
    "name": "ipython",
    "version": 3
   },
   "file_extension": ".py",
   "mimetype": "text/x-python",
   "name": "python",
   "nbconvert_exporter": "python",
   "pygments_lexer": "ipython3",
   "version": "3.8.5"
  }
 },
 "nbformat": 4,
 "nbformat_minor": 5
}
