{
 "cells": [
  {
   "cell_type": "code",
   "execution_count": 19,
   "id": "b365796b-e972-4239-9a10-e2ee850bb493",
   "metadata": {},
   "outputs": [
    {
     "name": "stdout",
     "output_type": "stream",
     "text": [
      "None\n"
     ]
    }
   ],
   "source": [
    "def safe_get(l, i):\n",
    "    try:\n",
    "        i = 11\n",
    "        i = i + 1\n",
    "        l = [7,2,8,2,11, 19, 87, 15, 3]\n",
    "        print(l[i])\n",
    "    except:\n",
    "        print(\"None\")\n",
    "safe_get([1,2,3],1)\n"
   ]
  },
  {
   "cell_type": "code",
   "execution_count": 20,
   "id": "a2e7a20a-0659-4216-a365-6168f147e5ba",
   "metadata": {},
   "outputs": [
    {
     "ename": "IndexError",
     "evalue": "list index out of range",
     "output_type": "error",
     "traceback": [
      "\u001b[0;31m---------------------------------------------------------------------------\u001b[0m",
      "\u001b[0;31mIndexError\u001b[0m                                Traceback (most recent call last)",
      "\u001b[0;32m<ipython-input-20-39af0cb93967>\u001b[0m in \u001b[0;36m<module>\u001b[0;34m\u001b[0m\n\u001b[1;32m      1\u001b[0m \u001b[0ma\u001b[0m \u001b[0;34m=\u001b[0m \u001b[0;34m[\u001b[0m\u001b[0;36m1\u001b[0m\u001b[0;34m,\u001b[0m\u001b[0;36m2\u001b[0m\u001b[0;34m]\u001b[0m\u001b[0;34m\u001b[0m\u001b[0;34m\u001b[0m\u001b[0m\n\u001b[1;32m      2\u001b[0m \u001b[0;32mtry\u001b[0m\u001b[0;34m:\u001b[0m\u001b[0;34m\u001b[0m\u001b[0;34m\u001b[0m\u001b[0m\n\u001b[0;32m----> 3\u001b[0;31m     \u001b[0mprint\u001b[0m\u001b[0;34m(\u001b[0m\u001b[0ma\u001b[0m\u001b[0;34m[\u001b[0m\u001b[0;36m3\u001b[0m\u001b[0;34m]\u001b[0m\u001b[0;34m)\u001b[0m\u001b[0;34m\u001b[0m\u001b[0;34m\u001b[0m\u001b[0m\n\u001b[0m\u001b[1;32m      4\u001b[0m \u001b[0;32mexcept\u001b[0m \u001b[0mKeyError\u001b[0m\u001b[0;34m:\u001b[0m\u001b[0;34m\u001b[0m\u001b[0;34m\u001b[0m\u001b[0m\n\u001b[1;32m      5\u001b[0m     \u001b[0mprint\u001b[0m\u001b[0;34m(\u001b[0m\u001b[0;34m\"bład\"\u001b[0m\u001b[0;34m)\u001b[0m\u001b[0;34m\u001b[0m\u001b[0;34m\u001b[0m\u001b[0m\n",
      "\u001b[0;31mIndexError\u001b[0m: list index out of range"
     ]
    }
   ],
   "source": [
    "a = [1,2]\n",
    "try:\n",
    "    print(a[3])\n",
    "except KeyError:\n",
    "    print(\"bład\")"
   ]
  },
  {
   "cell_type": "code",
   "execution_count": null,
   "id": "a0f6e18f-e561-4295-9e3d-085be9cd2de7",
   "metadata": {},
   "outputs": [],
   "source": [
    "import random\n",
    "\n",
    "def random_average(n):\n",
    "    l2 = []\n",
    "    random.randint(n)\n",
    "    \n",
    "    "
   ]
  },
  {
   "cell_type": "code",
   "execution_count": 33,
   "id": "29799f65-9189-4eb8-8830-2b48530cabde",
   "metadata": {},
   "outputs": [
    {
     "ename": "IndentationError",
     "evalue": "expected an indented block (<ipython-input-33-8fd3984698f5>, line 4)",
     "output_type": "error",
     "traceback": [
      "\u001b[0;36m  File \u001b[0;32m\"<ipython-input-33-8fd3984698f5>\"\u001b[0;36m, line \u001b[0;32m4\u001b[0m\n\u001b[0;31m    except:\u001b[0m\n\u001b[0m           ^\u001b[0m\n\u001b[0;31mIndentationError\u001b[0m\u001b[0;31m:\u001b[0m expected an indented block\n"
     ]
    }
   ],
   "source": [
    "try:\n",
    "    a = int(input(\"Podaj pierwszą liczbę\"))\n",
    "    if a == 0:\n",
    "except:\n",
    "    print(\"nie może być 0\")\n",
    "\n",
    "\n"
   ]
  },
  {
   "cell_type": "code",
   "execution_count": 37,
   "id": "fe9cac2b-8ccb-430f-ac8a-4d69355bb8b7",
   "metadata": {},
   "outputs": [
    {
     "data": {
      "text/plain": [
       "1.125"
      ]
     },
     "execution_count": 37,
     "metadata": {},
     "output_type": "execute_result"
    }
   ],
   "source": [
    "9 / 8\n",
    "\n"
   ]
  },
  {
   "cell_type": "code",
   "execution_count": 40,
   "id": "a3e5caa8-91ef-4d30-996e-427f11298229",
   "metadata": {},
   "outputs": [
    {
     "data": {
      "text/plain": [
       "1"
      ]
     },
     "execution_count": 40,
     "metadata": {},
     "output_type": "execute_result"
    }
   ],
   "source": [
    "101 % 10"
   ]
  },
  {
   "cell_type": "code",
   "execution_count": 108,
   "id": "e704cc20-7966-4087-9dc2-94db4ccb3bca",
   "metadata": {},
   "outputs": [],
   "source": [
    "def validate_pesel(p):\n",
    "    \n",
    "    p = 73042908779\n",
    "    s = str(p)\n",
    "    sm = map(int, s)\n",
    "    dl = list(sm)\n",
    "    print(dl)\n",
    "    waga = int(dl[0]) * 1 + int(dl[1]) * 3 + int(dl[2]) * 7 + int(dl[3]) * 9 + int(dl[4]) * 1 + int(dl[5]) * 3 + int(dl[6]) * 7 + int(dl[7]) * 9 + int(dl[8]) * 1 + int(dl[9]) * 3\n",
    "    modulo = waga % 10\n",
    "    roznica = 10 - modulo\n",
    "    if int(dl[10]) == roznica:\n",
    "        print(\"true\")\n",
    "    else:\n",
    "        print(\"fales\")\n"
   ]
  },
  {
   "cell_type": "code",
   "execution_count": 111,
   "id": "3af3e422-02e0-4e03-9a63-a48256df49b5",
   "metadata": {},
   "outputs": [],
   "source": [
    "def shorten(a):\n",
    "    a = shorten(\"Nie umiem wszystkiego\")\n",
    "    print(a)"
   ]
  },
  {
   "cell_type": "code",
   "execution_count": null,
   "id": "a487bcca-d4f2-4f6d-85c1-0471e552eddc",
   "metadata": {},
   "outputs": [],
   "source": []
  }
 ],
 "metadata": {
  "kernelspec": {
   "display_name": "Python 3",
   "language": "python",
   "name": "python3"
  },
  "language_info": {
   "codemirror_mode": {
    "name": "ipython",
    "version": 3
   },
   "file_extension": ".py",
   "mimetype": "text/x-python",
   "name": "python",
   "nbconvert_exporter": "python",
   "pygments_lexer": "ipython3",
   "version": "3.8.5"
  }
 },
 "nbformat": 4,
 "nbformat_minor": 5
}
